{
 "cells": [
  {
   "cell_type": "markdown",
   "id": "be1c80eb",
   "metadata": {},
   "source": [
    "1.Build regression models to predict housing price using the KNN Regressor, Decision Tree \n",
    "Regressor and SVM Regressor (see links below for more information on the regression \n",
    "algorithms in sklearn).\n"
   ]
  },
  {
   "cell_type": "markdown",
   "id": "b37d846a",
   "metadata": {},
   "source": [
    "2.Use 5-fold cross validation for parameter tuning within each \n",
    "regression algorithm. Report different parameter combinations you have tried, and the \n",
    "performance based on R Squared. \n"
   ]
  },
  {
   "cell_type": "markdown",
   "id": "0a99e983",
   "metadata": {},
   "source": [
    "3.Compare the best performing KNN, Decision Tree, SVM and Linear Regression models based on the same test set and report the overall \n",
    "best performing model for the housing price prediction task. "
   ]
  },
  {
   "cell_type": "markdown",
   "id": "08a5d1f4",
   "metadata": {},
   "source": [
    "Study the errors of the KNN Regressor, Decision Tree Regressor and SVM Regressor \n",
    "respectively by visualizing the actual housing prices and predicted housing prices from the \n",
    "test set. Generate R Squared, RMSE and MAE. Interpret the performance of the \n",
    "regression models based on these 3 performance metrics. If a housing agent would like \n",
    "to use one of your regression models to predict the price of a house to be sold in the \n",
    "market, which model would you recommend? Justify your recommendation. "
   ]
  },
  {
   "cell_type": "markdown",
   "id": "705b95f6",
   "metadata": {},
   "source": []
  },
  {
   "cell_type": "markdown",
   "id": "8acaa076",
   "metadata": {},
   "source": []
  },
  {
   "cell_type": "markdown",
   "id": "f78ba4eb",
   "metadata": {},
   "source": []
  },
  {
   "cell_type": "markdown",
   "id": "081825cf",
   "metadata": {},
   "source": []
  },
  {
   "cell_type": "markdown",
   "id": "bc4dfa70",
   "metadata": {},
   "source": []
  },
  {
   "cell_type": "markdown",
   "id": "76c0052f",
   "metadata": {},
   "source": []
  },
  {
   "cell_type": "markdown",
   "id": "4a551c6a",
   "metadata": {},
   "source": []
  },
  {
   "cell_type": "markdown",
   "id": "57556c2a",
   "metadata": {},
   "source": []
  },
  {
   "cell_type": "markdown",
   "id": "627016dc",
   "metadata": {},
   "source": []
  },
  {
   "cell_type": "markdown",
   "id": "46c8dbcf",
   "metadata": {},
   "source": []
  },
  {
   "cell_type": "markdown",
   "id": "5aaa5eed",
   "metadata": {},
   "source": []
  },
  {
   "cell_type": "markdown",
   "id": "c68ae376",
   "metadata": {},
   "source": []
  },
  {
   "cell_type": "markdown",
   "id": "0a2cc241",
   "metadata": {},
   "source": []
  },
  {
   "cell_type": "markdown",
   "id": "db8d6430",
   "metadata": {},
   "source": []
  },
  {
   "cell_type": "markdown",
   "id": "78287696",
   "metadata": {},
   "source": []
  },
  {
   "cell_type": "markdown",
   "id": "9c7a3902",
   "metadata": {},
   "source": []
  }
 ],
 "metadata": {
  "kernelspec": {
   "display_name": "Python 3",
   "language": "python",
   "name": "python3"
  },
  "language_info": {
   "codemirror_mode": {
    "name": "ipython",
    "version": 3
   },
   "file_extension": ".py",
   "mimetype": "text/x-python",
   "name": "python",
   "nbconvert_exporter": "python",
   "pygments_lexer": "ipython3",
   "version": "3.9.13"
  }
 },
 "nbformat": 4,
 "nbformat_minor": 5
}
