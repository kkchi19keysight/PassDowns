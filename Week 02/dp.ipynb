{
 "cells": [
  {
   "cell_type": "markdown",
   "id": "2e3108e8",
   "metadata": {},
   "source": [
    "BOTTOM UP APPROACH w/ tabulation"
   ]
  },
  {
   "cell_type": "code",
   "execution_count": null,
   "id": "a2c60b9d",
   "metadata": {},
   "outputs": [
    {
     "name": "stdout",
     "output_type": "stream",
     "text": [
      "Maximum value: 220\n",
      "Selected items (weight, value): [(20, 100), (30, 120)]\n"
     ]
    }
   ],
   "source": [
    "def knapsack(weights, values, capacity):\n",
    "    n = len(weights)\n",
    "    dp = [[0] * (capacity + 1) for _ in range(n + 1)]\n",
    "\n",
    "    for i in range(1, n + 1):\n",
    "        for w in range(capacity + 1):\n",
    "            if weights[i - 1] <= w:\n",
    "                dp[i][w] = max(dp[i - 1][w], dp[i - 1][w - weights[i - 1]] + values[i - 1])\n",
    "            else:\n",
    "                dp[i][w] = dp[i - 1][w]\n",
    "    return dp\n",
    "\n",
    "def backtrack_items(dp, weights, values, capacity):\n",
    "    i = len(weights)\n",
    "    w = capacity\n",
    "    selected_items = []\n",
    "\n",
    "    while i > 0 and w > 0:\n",
    "        if dp[i][w] != dp[i - 1][w]:\n",
    "            selected_items.append((weights[i - 1], values[i - 1]))  # (weight, value)\n",
    "            w -= weights[i - 1]\n",
    "        i -= 1\n",
    "\n",
    "    return selected_items[::-1]  # reverse to maintain input order\n",
    "\n",
    "if __name__ == \"__main__\":\n",
    "    weights = [10,20,30]\n",
    "    values = [60,100,120]\n",
    "    capacity = 50\n",
    "\n",
    "    dp_result = knapsack(weights, values, capacity)\n",
    "    max_value = dp_result[len(weights)][capacity]\n",
    "    selected_items = backtrack_items(dp_result, weights, values, capacity)\n",
    "\n",
    "    print(\"Maximum value:\", max_value)\n",
    "    print(\"Selected items (weight, value):\", selected_items)\n"
   ]
  },
  {
   "cell_type": "markdown",
   "id": "8d881c65",
   "metadata": {},
   "source": [
    "TOP DOWN KNAPSACK PROBLEM w/ memoization"
   ]
  },
  {
   "cell_type": "code",
   "execution_count": null,
   "id": "921f37d3",
   "metadata": {},
   "outputs": [],
   "source": [
    "\n",
    "\n",
    "def knapsack_recursive(i, w, weights, values, memo):\n",
    "    if i == len(weights) or w == 0:\n",
    "        return 0\n",
    "    if (i, w) not in memo:\n",
    "\n",
    "        if weights[i] > w:\n",
    "            memo[(i, w)] = knapsack_recursive(i + 1, w, weights, values, memo)\n",
    "        else:\n",
    "            memo[(i, w)] = max(\n",
    "                knapsack_recursive(i + 1, w, weights, values, memo),\n",
    "                values[i] + knapsack_recursive(i + 1, w - weights[i], weights, values, memo)\n",
    "            )\n",
    "    return memo[(i, w)]\n",
    "\n",
    "def knapsack_aux(weights, values, capacity):\n",
    "    memo = {}\n",
    "    max_value = knapsack_recursive(0, capacity, weights, values, memo)\n",
    "    return memo, max_value\n",
    "\n",
    "def backtrack_aux(memo, weights, values, capacity):\n",
    "    selected_items = []\n",
    "    i, w = 0, capacity\n",
    "    n = len(weights)\n",
    "\n",
    "    while i < n and w > 0:\n",
    "        if (i, w) not in memo:\n",
    "            break\n",
    "        # Check if taking the item improves the value over skipping\n",
    "        if weights[i] <= w and memo.get((i, w)) == values[i] + memo.get((i + 1, w - weights[i]), 0):\n",
    "            selected_items.append((weights[i], values[i]))\n",
    "            w -= weights[i]\n",
    "            i += 1\n",
    "        else:\n",
    "            i += 1\n",
    "    return selected_items\n",
    "\n",
    "if __name__ == \"__main__\":\n",
    "    weights = [10, 20, 30]\n",
    "    values = [60, 100, 120]\n",
    "    capacity = 50\n",
    "\n",
    "    memo, max_value = knapsack_aux(weights, values, capacity)\n",
    "    selected_items = backtrack_aux(memo, weights, values, capacity)\n",
    "\n",
    "    print(\"Maximum value:\", max_value)\n",
    "    print(\"Selected items (weight, value):\", selected_items)\n"
   ]
  }
 ],
 "metadata": {
  "kernelspec": {
   "display_name": "Python 3",
   "language": "python",
   "name": "python3"
  },
  "language_info": {
   "codemirror_mode": {
    "name": "ipython",
    "version": 3
   },
   "file_extension": ".py",
   "mimetype": "text/x-python",
   "name": "python",
   "nbconvert_exporter": "python",
   "pygments_lexer": "ipython3",
   "version": "3.12.10"
  }
 },
 "nbformat": 4,
 "nbformat_minor": 5
}
